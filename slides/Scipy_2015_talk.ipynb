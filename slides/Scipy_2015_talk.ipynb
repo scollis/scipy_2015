{
 "cells": [
  {
   "cell_type": "markdown",
   "metadata": {
    "slideshow": {
     "slide_type": "notes"
    }
   },
   "source": [
    "20 minute talk, \n",
    "15 minutes yapping, 5 minutes questions \n",
    "\n",
    "Begin: \n",
    "-Give some history.. Talk about NCAR's contribution.. Stovepiped non-interactive\n",
    "- Py-ART, data model driven design\n",
    "- A history of the ingests and how one by one ingests have been added.\n",
    "- Enter wradlib, Use of wradlib code as a low level optional dependancy.. Contrast wradlib and Py-art, Where is the magic? \n",
    "- Py-art use inside of DoE, use in radar processing\n",
    "- Py-ART use outside of DoE, Teaching (Steve), operations (Anderson)\n",
    "- Py-ART as a dependancy, ART-View.. \n",
    "- What is the future, grid data model. \n",
    "\n"
   ]
  },
  {
   "cell_type": "markdown",
   "metadata": {
    "slideshow": {
     "slide_type": "slide"
    }
   },
   "source": [
    "# <span class=\"hgviolet\">From Zero to Hero in Two Years, Open Collaborative Radar Software and the Secret to our Success</span>"
   ]
  },
  {
   "cell_type": "markdown",
   "metadata": {
    "slideshow": {
     "slide_type": "notes"
    }
   },
   "source": [
    "Description:\n",
    "\n",
    "As computer languages have undergone swift development in recent decades much of the oceanic and atmospheric community has been slow to shift from strongholds such as Fortran. While there has always been a number of open source solutions for the radar meteorology community to process data, projects have been stove-piped. Scientists tend to build applications on top of these software stacks in order to publish and the resultant code often is not used outside of the scientist’s institution or direct collaborators. This presentation will outline an alternate path using community based open source software. We will discuss the Python-ARM Radar Toolkit and recent community success in performing common radar processing tasks by combining multiple tools often written on different continents.\n",
    "\n"
   ]
  },
  {
   "cell_type": "markdown",
   "metadata": {
    "slideshow": {
     "slide_type": "fragment"
    }
   },
   "source": [
    " <h4>Scott Collis, Argonne National Laboratory</h4>\n",
    " <h4>Nick Guy, University of Wyoming</h4>\n",
    " <h4>Anderson Gama, SIMEPAR - Sistema Meteorológico do Paraná</h4>\n",
    " <h4>Cesar Beneti, SIMEPAR - Sistema Meteorológico do Paraná</h4>\n",
    " <h4>Stephen Nesbitt, University of Illinois</h4>\n",
    " <h4>Scott Giangrande, Brookhaven National Laboratory</h4>\n",
    " <h4>Maik Hiestermann, University of Potsdam</h4>\n",
    " <h4>Kai Muehlbauer, University of Bonn</h4>\n",
    "\n",
    "<div>\n",
    "    <img class=\"logo\" src=\"../images/python-logo.png\" height=\"100\" width=\"250\" align=\"left\"/>\n",
    "    <img class=\"logo\" src=\"../images/arm_logo.png\" height=\"100\" width=\"250\" align=\"right\"/>\n",
    "</div>\n",
    "<img class=\"logo\" src=\"../images/argonne_logo.png\" height=\"100\" width=\"250\" align='center'/>\n",
    "\n",
    "\n"
   ]
  },
  {
   "cell_type": "markdown",
   "metadata": {
    "slideshow": {
     "slide_type": "slide"
    }
   },
   "source": [
    " <hgroup>\n",
    "      <h2>What is Py-ART?</h2>\n",
    "      <h3>Py-ART is a data model driven Python based architecture for interacting with radar data</h3>\n",
    "    </hgroup>\n",
    "    <article>\n",
    "  "
   ]
  },
  {
   "cell_type": "code",
   "execution_count": null,
   "metadata": {
    "collapsed": true,
    "slideshow": {
     "slide_type": "fragment"
    }
   },
   "outputs": [],
   "source": [
    "import pyart\n",
    "\n"
   ]
  },
  {
   "cell_type": "code",
   "execution_count": null,
   "metadata": {
    "collapsed": true
   },
   "outputs": [],
   "source": []
  },
  {
   "cell_type": "markdown",
   "metadata": {
    "slideshow": {
     "slide_type": "notes"
    }
   },
   "source": [
    "3:50-4:10\n",
    "        room 204\n",
    "Title:\n",
    "\n",
    "From Zero to Hero in Two Years, Open Collaborative Radar Software and the Secret to our Success\n",
    "\n",
    "\n",
    "Description:\n",
    "\n",
    "As computer languages have undergone swift development in recent decades much of the oceanic and atmospheric community has been slow to shift from strongholds such as Fortran. While there has always been a number of open source solutions for the radar meteorology community to process data, projects have been stove-piped. Scientists tend to build applications on top of these software stacks in order to publish and the resultant code often is not used outside of the scientist’s institution or direct collaborators. This presentation will outline an alternate path using community based open source software. We will discuss the Python-ARM Radar Toolkit and recent community success in performing common radar processing tasks by combining multiple tools often written on different continents.\n",
    "\n",
    "\n",
    "Presenter(s):\n",
    " \tScott Collis, Argonne National Laboratory\n",
    " \tNick Guy, University of Wyoming\n",
    " \tAnderson Gama, SIMEPAR - Sistema Meteorológico do Paraná\n",
    " \tCesar Beneti, SIMEPAR - Sistema Meteorológico do Paraná\n",
    " \tStephen Nesbitt, University of Illinois\n",
    " \tScott Giangrande, Brookhaven National Laboratory\n",
    " \tMaik Hiestermann, University of Potsdam\n",
    " \tKai Muehlbauer, University of Bonn\n",
    "\n",
    "\n",
    "\n",
    "\n"
   ]
  }
 ],
 "metadata": {
  "celltoolbar": "Slideshow",
  "kernelspec": {
   "display_name": "Python 2",
   "language": "python",
   "name": "python2"
  },
  "language_info": {
   "codemirror_mode": {
    "name": "ipython",
    "version": 2
   },
   "file_extension": ".py",
   "mimetype": "text/x-python",
   "name": "python",
   "nbconvert_exporter": "python",
   "pygments_lexer": "ipython2",
   "version": "2.7.9"
  }
 },
 "nbformat": 4,
 "nbformat_minor": 0
}
